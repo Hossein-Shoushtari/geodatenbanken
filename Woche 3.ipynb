{
 "cells": [
  {
   "cell_type": "markdown",
   "id": "e20f5d47-5a74-4cb0-b67d-63a02e394351",
   "metadata": {},
   "source": [
    "# Woche 3 - Konzeptionelle Modellierung mit UML"
   ]
  },
  {
   "cell_type": "markdown",
   "id": "69906cc7-0c63-4c0f-a728-5f0509bc9e63",
   "metadata": {},
   "source": [
    "### 3-1 Anforderungsanalyse\n",
    "\n",
    "- Ein klassischer Softwareentwicklungsprozess beginnt mit der **Anforderungsanalyse**, in der eine Analytiker:in  \n",
    "  versucht, mit einer Kund:in die Aufgaben des zu erstellenden Systems zu präzisieren.\n",
    "\n",
    "- Um dies zu erreichen, muss man das Know-how und die Bedürfnisse der Kund:innen kennen.\n"
   ]
  },
  {
   "cell_type": "markdown",
   "id": "580d8638-9283-4842-81ec-08bdfc1169ad",
   "metadata": {},
   "source": [
    "### 3-2 Indoor Positionierung\n",
    "\n",
    "- Ein **Indoor-Positionierungssystem (IPS)** ist ein Netzwerk von Geräten, die zur Ortung von Personen oder Objekten  \n",
    "  verwendet werden, wenn GNSS nicht präzise genug sind oder völlig versagen – beispielsweise in  \n",
    "  mehrstöckigen Gebäuden, Flughäfen, Gassen, Parkhäusern und unterirdischen Standorten.\n"
   ]
  },
  {
   "cell_type": "markdown",
   "id": "85c28683-f3e5-4153-94ae-73830c6b184e",
   "metadata": {},
   "source": [
    "![Indoor](data/inou.png)"
   ]
  },
  {
   "cell_type": "markdown",
   "id": "5187cefb-4e5f-4d5f-905c-363fb96fe6ef",
   "metadata": {},
   "source": [
    "### 3-2-1 Inertial Lokalization\n",
    "\n",
    "- **Inertial Lokalization** ist ein Verfahren zur relativen Positionsbestimmung, das aus einer Folge von  \n",
    "  Inertialsensormessungen (IMU-Daten) geschätzt wird.\n",
    "\n",
    "- **Relative Positionsbestimmung**: Positionsbestimmung in Bezug auf den letzten Schritt oder die Anfangsposition.  \n",
    "\n",
    "- **Pedestrian Dead Reckoning (PDR)** relative Positionsbestimmung einer sich bewegenden Person auf der Basis von  \n",
    "  <u>Schritterkennung</u>, <u>Schrittlänge</u> und <u>Schrittrichtung</u>.\n"
   ]
  },
  {
   "cell_type": "markdown",
   "id": "903bd2de-c6ae-434d-8645-a53f69fed004",
   "metadata": {
    "jp-MarkdownHeadingCollapsed": true
   },
   "source": [
    "### Pedestrian Dead Reckoning\n",
    "![UML](data/inertialLokalization.png)"
   ]
  },
  {
   "cell_type": "markdown",
   "id": "4934241a-bfd6-4dc0-b2b7-5f75be87a4e7",
   "metadata": {},
   "source": [
    "### 3-2-2 Visual Odometry\n",
    "im Aufbau"
   ]
  },
  {
   "cell_type": "markdown",
   "id": "d176bf84-37b6-4a73-b073-4f736ffc5f34",
   "metadata": {},
   "source": [
    "### 3-2-3 LiDAR Odometry\n",
    "im Aufbau"
   ]
  },
  {
   "cell_type": "markdown",
   "id": "3a292f03-5ff6-41f1-a3d7-775316a1ed12",
   "metadata": {},
   "source": [
    "### 3-2-4 Fingerprinting\n",
    "im Aufbau"
   ]
  },
  {
   "cell_type": "markdown",
   "id": "63ad4ad6-a70c-49e3-9e75-297338765b21",
   "metadata": {},
   "source": [
    "### 3-2-5 Triangulation\n",
    "im Aufbau"
   ]
  },
  {
   "cell_type": "code",
   "execution_count": null,
   "id": "14ef532b-776f-4073-8056-eec1162bf931",
   "metadata": {},
   "outputs": [],
   "source": []
  }
 ],
 "metadata": {
  "kernelspec": {
   "display_name": "Python 3 (ipykernel)",
   "language": "python",
   "name": "python3"
  },
  "language_info": {
   "codemirror_mode": {
    "name": "ipython",
    "version": 3
   },
   "file_extension": ".py",
   "mimetype": "text/x-python",
   "name": "python",
   "nbconvert_exporter": "python",
   "pygments_lexer": "ipython3",
   "version": "3.12.9"
  }
 },
 "nbformat": 4,
 "nbformat_minor": 5
}
