{
 "cells": [
  {
   "cell_type": "markdown",
   "id": "e20f5d47-5a74-4cb0-b67d-63a02e394351",
   "metadata": {},
   "source": [
    "# Woche 7 - Modellierung von Geodaten in SQL"
   ]
  },
  {
   "cell_type": "markdown",
   "id": "69906cc7-0c63-4c0f-a728-5f0509bc9e63",
   "metadata": {},
   "source": [
    "## 7-1 SQL\n",
    "- Structed Query Language (SQL): Standardisierte Sprache zur Definition und Manipulation relationaler Datenbanken"
   ]
  },
  {
   "cell_type": "markdown",
   "id": "2a8d02b0-159f-4005-9976-34c9b3009654",
   "metadata": {},
   "source": [
    "```SQL\n",
    "CREATE TABLE sensor (\n",
    "id INT PRIMARY KEY NOT NULL,\n",
    "artikelnummer INT NOT NULL,\n",
    "name VARCHAR,\n",
    "frequenz INT,\n",
    "praezision FLOAT,\n",
    "FOREIGN KEY (smartphone) REFERENCES smartphone (artikelnummer)\n",
    ");"
   ]
  },
  {
   "cell_type": "markdown",
   "id": "8e99715d-434d-4fe7-8fd5-0ee6cd8d9820",
   "metadata": {},
   "source": [
    "| Sensor         | ID  | Name                | Frequenz (Hz) | Präzision       | Smartphone |\n",
    "|----------------|-----|---------------------|----------------|------------------|------------|\n",
    "|                |     |                     |                |                  |            |\n",
    "|                |     |                     |                |                  |            |\n",
    "|                |     |                     |                |                  |            |\n",
    "|                |     |                     |                |                  |            |\n",
    "|                |     |                     |                |                  |            |\n",
    "|                |     |                     |                |                  |            |\n",
    "|                |     |                     |                |                  |            |\n"
   ]
  },
  {
   "cell_type": "markdown",
   "id": "9d881ae4-934f-4cb8-9854-32cd151965a2",
   "metadata": {},
   "source": [
    "```SQL\n",
    "INSERT INTO sensor VALUES (1, 'IMU', 200, 0.01, 1001),\n",
    "(2, 'IMU', 100, 0.001, 1002), (3, 'Kamera', 30, 0.1, 1001);\n"
   ]
  },
  {
   "cell_type": "markdown",
   "id": "a7f45373-744c-45b8-ab3c-7d886f841fd9",
   "metadata": {},
   "source": [
    "<center>\n",
    "sensor\n",
    "</center>\n",
    "\n",
    "|ID  |Name   |   Frequenz (Hz)  | Präzision | Smartphone |\n",
    "|--------|-----|---------|----------------|-----------|\n",
    "| 1      | IMU    |  200    |      0.01          |   1001        |\n",
    "| 2      |  IMU   |    100  |           0.001     |   1002        |\n",
    "| 3      | Kamera    |  30 |             0.1   |      1001     |\n",
    "\n",
    "<br>\n",
    "<br>"
   ]
  },
  {
   "cell_type": "markdown",
   "id": "bda18a9d-4214-44b5-8a43-cd8af3df3986",
   "metadata": {},
   "source": [
    "```SQL\n",
    "CREATE TABLE position (\n",
    "id INT PRIMARY KEY NOT NULL,\n",
    "timestamps INT,\n",
    "geom geometry(POINT, 25832)\n",
    ");\n",
    "\n",
    "INSERT INTO position VALUES (101, 1742386937742, 'POINT(30.3,10.1)'),\n",
    "(102, 1742386937867, 'POINT(42.7,12.3)');"
   ]
  },
  {
   "cell_type": "markdown",
   "id": "a8159f18-12b7-40db-af53-420dd450c8af",
   "metadata": {},
   "source": [
    "<center>\n",
    "position\n",
    "</center>\n",
    "\n",
    "|ID  |timestamps   |   geom (Hz)  |\n",
    "|--------|-----|---------|\n",
    "| 101      | 1742386937742    |  POINT(30.3,10.1)    |     \n",
    "| 102    |  1742386937867   |    POINT(42.7,12.3)  |      \n"
   ]
  },
  {
   "cell_type": "markdown",
   "id": "710ceb3b-786e-4cd7-bc9a-8b49a824b1f8",
   "metadata": {},
   "source": [
    "## Koordinatenbezugssysteme (KBS)\n",
    "\n",
    "- KBS in PostGIS werden durch SRIDs identifiziert  \n",
    "  • Spatial Reference System Identifier (SRID)\n",
    "\n",
    "- EPSG Geodetic Parameter Datenbank (EPSG codes)  \n",
    "  • European Petroleum Survey Group Geodesy (EPSG)\n",
    "\n",
    "\n",
    "<table style=\"border: 1px solid #ccc; border-collapse: collapse;>\n",
    "   \n",
    "  <tr style=\"background-color: #eee;\">\n",
    "    <th>Code</th><th>Name</th>\n",
    "  </tr>\n",
    "  <tr>\n",
    "    <td>4326</td><td>Geografische Koordinaten WGS84 Bezugssystem</td>\n",
    "  </tr>\n",
    "     <tr>\n",
    "    <td>25832</td><td>UTM Zone 32N, ETRS89 (European Terrestrial Reference System 1989)</td>\n",
    "  </tr>\n",
    "     <tr>\n",
    "    <td>3857</td><td>WGS 84 / Pseudo-Mercator</td>\n",
    "  </tr>\n",
    "     <tr>\n",
    "    <td>....</td><td>...</td>\n",
    "  </tr>\n",
    "</table>\n",
    "<br>\n",
    "<br>\n"
   ]
  },
  {
   "cell_type": "markdown",
   "id": "0bd50164-2ffb-4a1a-941b-e4c9f550a03c",
   "metadata": {},
   "source": [
    "## 7-2 Anfragen auf Tabellen\n"
   ]
  },
  {
   "cell_type": "markdown",
   "id": "744389bc-4d26-4eb1-9989-76402c062819",
   "metadata": {},
   "source": [
    "### Welche Sensoren hat das Smartphone 1001?\n",
    "\n",
    "<center>\n",
    "sensor\n",
    "</center>\n",
    "\n",
    "|ID  |Name   |   Frequenz (Hz)  | Präzision | Smartphone |\n",
    "|--------|-----|---------|----------------|-----------|\n",
    "| 1      | IMU    |  200    |      0.01          |   1001        |\n",
    "| 2      |  IMU   |    100  |           0.001     |   1002        |\n",
    "| 3      | Kamera    |  30 |             0.1   |      1001     |\n",
    "\n",
    "\n",
    " \n",
    "```SQL\n",
    "SELECT * FROM sensor WHERE smartphone = 1001;\n"
   ]
  },
  {
   "cell_type": "markdown",
   "id": "a7a0221b-9086-4f40-8f9e-67b2fd5dd1fa",
   "metadata": {},
   "source": [
    "#### Ergebnis:\n",
    "\n",
    "|ID  |Name   |   Frequenz (Hz)  | Präzision | Smartphone |\n",
    "|--------|-----|---------|----------------|-----------|\n",
    "| 1      | IMU    |  200    |      0.01          |   1001        |\n",
    "| 3      | Kamera    |  30 |             0.1   |      1001     |"
   ]
  },
  {
   "cell_type": "markdown",
   "id": "26e64475-bf7f-416e-a338-1a90aa82e4e3",
   "metadata": {},
   "source": [
    "### Wo die Trajektorie beginnt und endet:\n",
    "\n",
    "<br>\n",
    "<br>\n",
    "<center>\n",
    "position\n",
    "</center>\n",
    "\n",
    "|ID  |timestamps   |   geom (Hz)  |\n",
    "|--------|-----|---------|\n",
    "| 101      | 1742386937742    |  POINT(30.3,10.1)    |     \n",
    "| 102    |  1742386937867   |    POINT(42.7,12.3)  |   \n",
    "| 103    |  1742386937875   |    POINT(46.1,13.5)  |\n",
    "\n",
    "```SQL\n",
    "(SELECT geom FROM position ORDER BY timestamps ASC LIMIT 1)\n",
    "UNION ALL\n",
    "(SELECT geom FROM position ORDER BY timestamps DESC LIMIT 1)\n",
    "\n",
    "\n"
   ]
  },
  {
   "cell_type": "markdown",
   "id": "fa2b56d5-2477-4012-adb4-ad1e7b6100d8",
   "metadata": {},
   "source": [
    "#### Ergebnis:\n",
    "    \n",
    "|ID  |timestamps   |   geom (Hz)  |\n",
    "|--------|-----|---------|\n",
    "| 101      | 1742386937742    |  POINT(30.3,10.1)    |     \n",
    "| 103    |  1742386937875   |    POINT(46.1,13.5)  |"
   ]
  },
  {
   "cell_type": "code",
   "execution_count": null,
   "id": "839beb47-e271-4e7d-a6e1-6644a1f436a1",
   "metadata": {},
   "outputs": [],
   "source": []
  }
 ],
 "metadata": {
  "kernelspec": {
   "display_name": "Python 3 (ipykernel)",
   "language": "python",
   "name": "python3"
  },
  "language_info": {
   "codemirror_mode": {
    "name": "ipython",
    "version": 3
   },
   "file_extension": ".py",
   "mimetype": "text/x-python",
   "name": "python",
   "nbconvert_exporter": "python",
   "pygments_lexer": "ipython3",
   "version": "3.12.9"
  }
 },
 "nbformat": 4,
 "nbformat_minor": 5
}
