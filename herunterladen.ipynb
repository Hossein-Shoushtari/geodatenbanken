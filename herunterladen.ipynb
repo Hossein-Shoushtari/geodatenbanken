{
 "cells": [
  {
   "cell_type": "markdown",
   "id": "331b6c7a-d326-49f4-b359-1dab7767d90e",
   "metadata": {},
   "source": [
    "# Materialien herunterladen\n",
    "\n",
    "Im Folgenden können Sie die Übungsmaterialien, das Vorlesungsskript sowie die Aufzeichnungen bequem herunterladen.\n"
   ]
  },
  {
   "cell_type": "markdown",
   "id": "7df55090-b666-432c-aaa6-b4527461d100",
   "metadata": {},
   "source": [
    "### Lehrprobe:\n",
    "\n",
    "[📥 Vorlesungsskript.pdf](data/Vorlesungsskript.pdf)\n",
    "\n",
    "[📥 Hausübungsblatt.pdf](data/Uebung.pdf)\n",
    "[📥 Positions.csv](data/positions.csv)\n",
    "[📥 IMU.csv](data/IMU.csv)\n"
   ]
  },
  {
   "cell_type": "markdown",
   "id": "877d7e15-cefd-4f1d-bffe-ad97e40e9c02",
   "metadata": {},
   "source": [
    "### Woche 1:\n",
    "\n",
    "[📥 Vorlesungsskript.pdf](data/Vorlesungsskript1.pdf)\n",
    "\n",
    "[📥 Hausübungsblatt.pdf](data/Uebung1.pdf)\n"
   ]
  },
  {
   "cell_type": "markdown",
   "id": "eda511a4-a329-43d5-98ae-9209aed11f43",
   "metadata": {},
   "source": [
    "### Woche 3:\n",
    "\n",
    "[📥 Vorlesungsskript.pdf](data/Vorlesungsskript1.pdf)\n",
    "\n",
    "[📥 Hausübungsblatt.pdf](data/Uebung1.pdf)\n"
   ]
  },
  {
   "cell_type": "markdown",
   "id": "0d0a2527-3ef0-4396-b68c-a51c4273c6f0",
   "metadata": {},
   "source": [
    "### Woche 5:\n",
    "\n",
    "[📥 Vorlesungsskript.pdf](data/Vorlesungsskript1.pdf)\n",
    "\n",
    "[📥 Hausübungsblatt.pdf](data/Uebung1.pdf)"
   ]
  },
  {
   "cell_type": "markdown",
   "id": "4e7bced4-bf6c-4857-be17-634962cfa2fc",
   "metadata": {},
   "source": [
    "### Woche 7:\n",
    "\n",
    "[📥 Vorlesungsskript.pdf](data/Vorlesungsskript1.pdf)\n",
    "\n",
    "[📥 Hausübungsblatt.pdf](data/Uebung1.pdf)"
   ]
  }
 ],
 "metadata": {
  "kernelspec": {
   "display_name": "Python 3 (ipykernel)",
   "language": "python",
   "name": "python3"
  },
  "language_info": {
   "codemirror_mode": {
    "name": "ipython",
    "version": 3
   },
   "file_extension": ".py",
   "mimetype": "text/x-python",
   "name": "python",
   "nbconvert_exporter": "python",
   "pygments_lexer": "ipython3",
   "version": "3.12.9"
  }
 },
 "nbformat": 4,
 "nbformat_minor": 5
}
