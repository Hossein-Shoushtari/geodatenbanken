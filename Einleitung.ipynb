{
 "cells": [
  {
   "cell_type": "markdown",
   "id": "b846c9e6-47d4-4a26-a0b8-0cfe52c589cc",
   "metadata": {},
   "source": [
    "# Willkommen im Modul G04: Geodatenbanken\n",
    "\n",
    "## Berliner Hochschule für Technik  \n",
    "### Labor für Photogrammetrie  \n",
    "### Sommersemester 2025"
   ]
  },
  {
   "cell_type": "markdown",
   "id": "d56ae319-3955-41e6-ab0e-90723bd7b203",
   "metadata": {},
   "source": [
    "## Hauptreferenzen\n",
    "\n",
    "**Thomas Brinkhoff**  \n",
    "*Geodatenbanksysteme in Theorie und Praxis* (2021)  \n",
    "Wichmann Verlag, Berlin  \n",
    "ISBN: 9783879076956  \n",
    "\n",
    "---\n",
    "\n",
    "**Stephan Kleuker**  \n",
    "*Grundkurs Datenbankentwicklung* (2006)  \n",
    "Vieweg & Sohn Verlag, Wiesbaden  \n",
    "ISBN: 3-8348-0008-2  \n",
    "\n",
    "---\n",
    "\n",
    "## Relevante Konferenzen\n",
    "\n",
    "- **Institute of Navigation (ION) International Technical Meeting (ITM) oder ION GNSS+ Konferenz**  \n",
    "- **International Conference on Indoor Positioning and Indoor Navigation (IPIN)**  \n"
   ]
  }
 ],
 "metadata": {
  "kernelspec": {
   "display_name": "Python 3 (ipykernel)",
   "language": "python",
   "name": "python3"
  },
  "language_info": {
   "codemirror_mode": {
    "name": "ipython",
    "version": 3
   },
   "file_extension": ".py",
   "mimetype": "text/x-python",
   "name": "python",
   "nbconvert_exporter": "python",
   "pygments_lexer": "ipython3",
   "version": "3.12.9"
  }
 },
 "nbformat": 4,
 "nbformat_minor": 5
}
