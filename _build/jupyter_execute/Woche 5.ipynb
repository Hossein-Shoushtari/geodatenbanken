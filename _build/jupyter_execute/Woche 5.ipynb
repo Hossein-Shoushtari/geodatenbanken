{
 "cells": [
  {
   "cell_type": "markdown",
   "id": "e20f5d47-5a74-4cb0-b67d-63a02e394351",
   "metadata": {},
   "source": [
    "# Woche 5 - Von UML zum logischen Modell"
   ]
  },
  {
   "cell_type": "markdown",
   "id": "69906cc7-0c63-4c0f-a728-5f0509bc9e63",
   "metadata": {},
   "source": [
    "# 5-1 UML\n",
    "- Unified Modeling Language (UML): Eine Sprache, die auf **Grafik- bzw. Diagrammen** beruht.\n",
    "![UML](data/uml_1.png)\n",
    "- **Assoziationen** sind Referenzen, die in einem Objekt gespeichert sind und auf ein anderes Objekt verweisen.\n",
    "\n",
    "- Beispiel:Jedes Objekt der Klasse *„sensor“* speichert eine Referenz auf ein Objekt der Klasse *„marke“*."
   ]
  },
  {
   "cell_type": "markdown",
   "id": "f93babbb-1be0-4dd8-90b7-febac03fa04a",
   "metadata": {},
   "source": [
    "- Eine **Aggregation** ist eine besondere Assoziation, die eine *Ist-Teil-von*-Beziehung ausdrückt:\n",
    "\n",
    "  - Ein Sensor ist Teil von keinem oder genau einem Smartphone (0..1)\n",
    "  - Ein Smartphone hat viele Sensoren (*)\n",
    "![UML](data/uml_2.png)"
   ]
  },
  {
   "cell_type": "markdown",
   "id": "0518b42b-de68-4c06-8abc-02e55fc5c7d7",
   "metadata": {},
   "source": [
    "- Eine **Komposition** ist eine Ist-Teil-von-Beziehung, bei der eine Abhängigkeit des Teils vom Ganzen besteht:\n",
    "\n",
    "  - Eine Trajektorie kann nicht ohne eine Position existieren.\n",
    "![UML](data/uml_3.png)"
   ]
  }
 ],
 "metadata": {
  "kernelspec": {
   "display_name": "Python 3 (ipykernel)",
   "language": "python",
   "name": "python3"
  },
  "language_info": {
   "codemirror_mode": {
    "name": "ipython",
    "version": 3
   },
   "file_extension": ".py",
   "mimetype": "text/x-python",
   "name": "python",
   "nbconvert_exporter": "python",
   "pygments_lexer": "ipython3",
   "version": "3.12.9"
  }
 },
 "nbformat": 4,
 "nbformat_minor": 5
}